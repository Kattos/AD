{
 "cells": [
  {
   "cell_type": "markdown",
   "id": "23e1a26b-4e40-4c0e-ae34-08961a8bdf74",
   "metadata": {},
   "source": [
    "note: set `os.environ[\"AD_PATH\"]` or run `export AD_PATH=/path/to/autodiff-opt` before import `ad.grad` (for E2E is wip)"
   ]
  },
  {
   "cell_type": "code",
   "execution_count": 2,
   "id": "4d2067cc-dfbc-40cf-b774-4fddcb3708c1",
   "metadata": {},
   "outputs": [],
   "source": [
    "from ad.scalar import *\n",
    "from ad.grad import *\n",
    "from mlir.ir import *"
   ]
  },
  {
   "cell_type": "markdown",
   "id": "34b21f41-98a2-4701-b759-2772da2b7c4a",
   "metadata": {},
   "source": [
    "define function that has `Scalar`(s) as input and `Scalar`(s) as output"
   ]
  },
  {
   "cell_type": "code",
   "execution_count": 3,
   "id": "a3effe59-4b71-4397-a426-a91a43651ec0",
   "metadata": {},
   "outputs": [],
   "source": [
    "def function(x: Scalar, y: Scalar) -> Scalar:\n",
    "    return x.log() + x * y - y"
   ]
  },
  {
   "cell_type": "markdown",
   "id": "a21a7e63-e00a-4a23-adad-a7d329d99baa",
   "metadata": {},
   "source": [
    "call `gen_mlir` to transform python function to mlir module"
   ]
  },
  {
   "cell_type": "code",
   "execution_count": 4,
   "id": "c62f0a35-a687-4ac0-ab23-4729cd87725c",
   "metadata": {},
   "outputs": [
    {
     "name": "stdout",
     "output_type": "stream",
     "text": [
      "module {\n",
      "  func.func @function(%arg0: tensor<1xf32>, %arg1: tensor<1xf32>) -> tensor<1xf32> {\n",
      "    %0 = \"tosa.log\"(%arg0) : (tensor<1xf32>) -> tensor<1xf32>\n",
      "    %1 = \"tosa.mul\"(%arg0, %arg1) {shift = 0 : i32} : (tensor<1xf32>, tensor<1xf32>) -> tensor<1xf32>\n",
      "    %2 = \"tosa.add\"(%0, %1) : (tensor<1xf32>, tensor<1xf32>) -> tensor<1xf32>\n",
      "    %3 = \"tosa.sub\"(%2, %arg1) : (tensor<1xf32>, tensor<1xf32>) -> tensor<1xf32>\n",
      "    return %3 : tensor<1xf32>\n",
      "  }\n",
      "}\n",
      "\n"
     ]
    }
   ],
   "source": [
    "with Context() as ctx, Location.unknown() as loc:\n",
    "    primal_module = gen_mlir(ctx, loc, 2, 1, \"function\", function)\n",
    "    \n",
    "print(primal_module)"
   ]
  },
  {
   "cell_type": "markdown",
   "id": "f97380f1-e0d6-4d2d-91dd-7276d0a669b3",
   "metadata": {},
   "source": [
    "call `grad_module` to transform primal module to adjoint module as `str`"
   ]
  },
  {
   "cell_type": "code",
   "execution_count": 5,
   "id": "c209d3af-07db-4e66-ba08-63b8534c6d42",
   "metadata": {},
   "outputs": [
    {
     "name": "stdout",
     "output_type": "stream",
     "text": [
      "module {\n",
      "  func.func @diff_function(%arg0: tensor<1xf32>, %arg1: tensor<1xf32>, %arg2: tensor<1xf32>) -> (tensor<1xf32>, tensor<1xf32>, tensor<1xf32>) {\n",
      "    %cst = arith.constant dense<1.000000e+00> : tensor<1xf32>\n",
      "    %0 = \"tosa.log\"(%arg0) {requires_grad = 2 : i64} : (tensor<1xf32>) -> tensor<1xf32>\n",
      "    %1 = \"tosa.mul\"(%arg0, %arg1) {requires_grad = 5 : i64, shift = 0 : i32} : (tensor<1xf32>, tensor<1xf32>) -> tensor<1xf32>\n",
      "    %2 = \"tosa.add\"(%0, %1) {requires_grad = 3 : i64} : (tensor<1xf32>, tensor<1xf32>) -> tensor<1xf32>\n",
      "    %3 = \"tosa.sub\"(%2, %arg1) {requires_grad = 4 : i64} : (tensor<1xf32>, tensor<1xf32>) -> tensor<1xf32>\n",
      "    %4 = \"tosa.negate\"(%cst) : (tensor<1xf32>) -> tensor<1xf32>\n",
      "    %5 = \"tosa.mul\"(%4, %arg2) {shift = 0 : i32} : (tensor<1xf32>, tensor<1xf32>) -> tensor<1xf32>\n",
      "    %6 = \"tosa.reciprocal\"(%arg0) : (tensor<1xf32>) -> tensor<1xf32>\n",
      "    %7 = \"tosa.mul\"(%6, %arg2) {shift = 0 : i32} : (tensor<1xf32>, tensor<1xf32>) -> tensor<1xf32>\n",
      "    %8 = \"tosa.mul\"(%arg1, %arg2) {shift = 0 : i32} : (tensor<1xf32>, tensor<1xf32>) -> tensor<1xf32>\n",
      "    %9 = \"tosa.mul\"(%arg0, %arg2) {shift = 0 : i32} : (tensor<1xf32>, tensor<1xf32>) -> tensor<1xf32>\n",
      "    %10 = \"tosa.add\"(%7, %8) : (tensor<1xf32>, tensor<1xf32>) -> tensor<1xf32>\n",
      "    %11 = \"tosa.add\"(%9, %5) : (tensor<1xf32>, tensor<1xf32>) -> tensor<1xf32>\n",
      "    return %3, %10, %11 : tensor<1xf32>, tensor<1xf32>, tensor<1xf32>\n",
      "  }\n",
      "}\n",
      "\n",
      "\n"
     ]
    }
   ],
   "source": [
    "adjoint_module = grad_module(primal_module)\n",
    "print(adjoint_module)"
   ]
  },
  {
   "cell_type": "markdown",
   "id": "bf80822a-1030-44ce-ab55-46addbc2cc3b",
   "metadata": {},
   "source": [
    "call `run_module` to get results"
   ]
  },
  {
   "cell_type": "code",
   "execution_count": 6,
   "id": "f643901b-8454-4afc-8ad2-333efeaa7c31",
   "metadata": {},
   "outputs": [],
   "source": [
    "x = 2.\n",
    "y = 5.\n",
    "grad = 1.\n",
    "\n",
    "primal_result = run_module(str(primal_module), \"function\", x, y)\n",
    "adjoint_result = run_module(adjoint_module, \"diff_function\", x, y, grad)"
   ]
  },
  {
   "cell_type": "code",
   "execution_count": 7,
   "id": "bd1fa073-cec5-4d30-bf58-843ce7bf61e4",
   "metadata": {},
   "outputs": [
    {
     "data": {
      "text/plain": [
       "5.6931477"
      ]
     },
     "execution_count": 7,
     "metadata": {},
     "output_type": "execute_result"
    }
   ],
   "source": [
    "primal_result"
   ]
  },
  {
   "cell_type": "code",
   "execution_count": 8,
   "id": "3a444e34-44da-4234-9dda-1d07fa0e128a",
   "metadata": {},
   "outputs": [
    {
     "data": {
      "text/plain": [
       "[5.6931477, 5.5, 1.0]"
      ]
     },
     "execution_count": 8,
     "metadata": {},
     "output_type": "execute_result"
    }
   ],
   "source": [
    "adjoint_result"
   ]
  }
 ],
 "metadata": {
  "kernelspec": {
   "display_name": "Python 3",
   "language": "python",
   "name": "python3"
  },
  "language_info": {
   "codemirror_mode": {
    "name": "ipython",
    "version": 3
   },
   "file_extension": ".py",
   "mimetype": "text/x-python",
   "name": "python",
   "nbconvert_exporter": "python",
   "pygments_lexer": "ipython3",
   "version": "3.9.15"
  }
 },
 "nbformat": 4,
 "nbformat_minor": 5
}
