{
 "cells": [
  {
   "cell_type": "markdown",
   "id": "48f897e7-f4fd-46cf-b6a8-1cb21682c1c2",
   "metadata": {},
   "source": [
    "note: `os.environ[\"AD_PATH\"]` shoule be set before importing `ad.module`"
   ]
  },
  {
   "cell_type": "code",
   "execution_count": 1,
   "id": "6d222a19-9a4d-4293-919f-e8c2d80ce7c5",
   "metadata": {},
   "outputs": [],
   "source": [
    "from ad.scalar import *\n",
    "from ad.module import *\n",
    "from mlir.ir import Context, Location"
   ]
  },
  {
   "cell_type": "markdown",
   "id": "29699794-59c4-48cd-b956-21f396a7dbf4",
   "metadata": {},
   "source": [
    "define function that has `Scalar`(s) as input(s) and `Scalar`(s) as output(s)"
   ]
  },
  {
   "cell_type": "code",
   "execution_count": 2,
   "id": "5d01559c-1da8-4580-8b95-633808dfef7f",
   "metadata": {},
   "outputs": [],
   "source": [
    "def function(x: Scalar, y: Scalar) -> Scalar:\n",
    "    return x.log() + x * y - y"
   ]
  },
  {
   "cell_type": "markdown",
   "id": "eaeb89b6-0f61-483a-8dfb-83bfbbb986e3",
   "metadata": {},
   "source": [
    "call `pyfunc_to_mlir` to transform python function to mlir module"
   ]
  },
  {
   "cell_type": "code",
   "execution_count": 3,
   "id": "8cbea8da-272a-4bdd-b1bb-ed66d301da07",
   "metadata": {},
   "outputs": [
    {
     "name": "stdout",
     "output_type": "stream",
     "text": [
      "module {\n",
      "  func.func @function(%arg0: tensor<1xf32>, %arg1: tensor<1xf32>) -> tensor<1xf32> {\n",
      "    %0 = \"tosa.log\"(%arg0) : (tensor<1xf32>) -> tensor<1xf32>\n",
      "    %1 = \"tosa.mul\"(%arg0, %arg1) {shift = 0 : i32} : (tensor<1xf32>, tensor<1xf32>) -> tensor<1xf32>\n",
      "    %2 = \"tosa.add\"(%0, %1) : (tensor<1xf32>, tensor<1xf32>) -> tensor<1xf32>\n",
      "    %3 = \"tosa.sub\"(%2, %arg1) : (tensor<1xf32>, tensor<1xf32>) -> tensor<1xf32>\n",
      "    return %3 : tensor<1xf32>\n",
      "  }\n",
      "}\n",
      "\n"
     ]
    }
   ],
   "source": [
    "with Context() as ctx, Location.unknown() as loc:\n",
    "    primal_ir = pyfunc_to_mlir(ctx, loc, 2, 1, \"function\", function)\n",
    "    \n",
    "print(primal_ir)"
   ]
  },
  {
   "cell_type": "markdown",
   "id": "38c3df01-02db-4f27-8100-6a56771ee7a0",
   "metadata": {},
   "source": [
    "initialize `ScalarModule` with generated mlir"
   ]
  },
  {
   "cell_type": "code",
   "execution_count": 4,
   "id": "def08e58-95d9-4ae9-ac57-cfe725703315",
   "metadata": {},
   "outputs": [
    {
     "name": "stdout",
     "output_type": "stream",
     "text": [
      "module {\n",
      "  func.func @function(%arg0: tensor<1xf32>, %arg1: tensor<1xf32>) -> tensor<1xf32> {\n",
      "    %0 = \"tosa.log\"(%arg0) : (tensor<1xf32>) -> tensor<1xf32>\n",
      "    %1 = \"tosa.mul\"(%arg0, %arg1) {shift = 0 : i32} : (tensor<1xf32>, tensor<1xf32>) -> tensor<1xf32>\n",
      "    %2 = \"tosa.add\"(%0, %1) : (tensor<1xf32>, tensor<1xf32>) -> tensor<1xf32>\n",
      "    %3 = \"tosa.sub\"(%2, %arg1) : (tensor<1xf32>, tensor<1xf32>) -> tensor<1xf32>\n",
      "    return %3 : tensor<1xf32>\n",
      "  }\n",
      "}\n",
      "\n"
     ]
    }
   ],
   "source": [
    "primal_module = ScalarModule(primal_ir, \"function\")\n",
    "print(primal_module)"
   ]
  },
  {
   "cell_type": "markdown",
   "id": "e670be13-c101-4376-9060-1bf2bbd88a40",
   "metadata": {},
   "source": [
    "call `ScalarModule.run` to exec"
   ]
  },
  {
   "cell_type": "code",
   "execution_count": 5,
   "id": "956012f4-28e9-49f2-942b-6725da11d697",
   "metadata": {},
   "outputs": [
    {
     "name": "stdout",
     "output_type": "stream",
     "text": [
      "5.6931477\n"
     ]
    }
   ],
   "source": [
    "x = 2.0\n",
    "y = 5.0\n",
    "grad = 1.0\n",
    "\n",
    "primal_res = primal_module.run(x, y)\n",
    "print(primal_res)"
   ]
  },
  {
   "cell_type": "markdown",
   "id": "244fc36e-d591-42a2-b80e-3a55c79f4e9f",
   "metadata": {},
   "source": [
    "call `ScalarModule.grad` to generate adjoint module"
   ]
  },
  {
   "cell_type": "code",
   "execution_count": 6,
   "id": "dd15e47e-c7a7-45f9-a110-f38f1bdbe308",
   "metadata": {},
   "outputs": [
    {
     "name": "stdout",
     "output_type": "stream",
     "text": [
      "module {\n",
      "  func.func @diff_function(%arg0: tensor<1xf32>, %arg1: tensor<1xf32>, %arg2: tensor<1xf32>) -> (tensor<1xf32>, tensor<1xf32>, tensor<1xf32>) {\n",
      "    %cst = arith.constant dense<1.000000e+00> : tensor<1xf32>\n",
      "    %0 = \"tosa.log\"(%arg0) {requires_grad = 2 : i64} : (tensor<1xf32>) -> tensor<1xf32>\n",
      "    %1 = \"tosa.mul\"(%arg0, %arg1) {requires_grad = 5 : i64, shift = 0 : i32} : (tensor<1xf32>, tensor<1xf32>) -> tensor<1xf32>\n",
      "    %2 = \"tosa.add\"(%0, %1) {requires_grad = 3 : i64} : (tensor<1xf32>, tensor<1xf32>) -> tensor<1xf32>\n",
      "    %3 = \"tosa.sub\"(%2, %arg1) {requires_grad = 4 : i64} : (tensor<1xf32>, tensor<1xf32>) -> tensor<1xf32>\n",
      "    %4 = \"tosa.negate\"(%cst) : (tensor<1xf32>) -> tensor<1xf32>\n",
      "    %5 = \"tosa.mul\"(%4, %arg2) {shift = 0 : i32} : (tensor<1xf32>, tensor<1xf32>) -> tensor<1xf32>\n",
      "    %6 = \"tosa.reciprocal\"(%arg0) : (tensor<1xf32>) -> tensor<1xf32>\n",
      "    %7 = \"tosa.mul\"(%6, %arg2) {shift = 0 : i32} : (tensor<1xf32>, tensor<1xf32>) -> tensor<1xf32>\n",
      "    %8 = \"tosa.mul\"(%arg1, %arg2) {shift = 0 : i32} : (tensor<1xf32>, tensor<1xf32>) -> tensor<1xf32>\n",
      "    %9 = \"tosa.mul\"(%arg0, %arg2) {shift = 0 : i32} : (tensor<1xf32>, tensor<1xf32>) -> tensor<1xf32>\n",
      "    %10 = \"tosa.add\"(%7, %8) : (tensor<1xf32>, tensor<1xf32>) -> tensor<1xf32>\n",
      "    %11 = \"tosa.add\"(%9, %5) : (tensor<1xf32>, tensor<1xf32>) -> tensor<1xf32>\n",
      "    return %3, %10, %11 : tensor<1xf32>, tensor<1xf32>, tensor<1xf32>\n",
      "  }\n",
      "}\n",
      "\n",
      "\n"
     ]
    }
   ],
   "source": [
    "adjoint_module = primal_module.grad()\n",
    "print(adjoint_module)"
   ]
  },
  {
   "cell_type": "markdown",
   "id": "b427f2c3-62e9-4ba7-ad83-4e50c87d5ad5",
   "metadata": {},
   "source": [
    "call `adjoint_module.exec` to exec (inputs should be forward inputs and reverse contribution)"
   ]
  },
  {
   "cell_type": "code",
   "execution_count": 7,
   "id": "e60ffb3f-a604-4665-9b19-d8efa1470342",
   "metadata": {},
   "outputs": [
    {
     "name": "stdout",
     "output_type": "stream",
     "text": [
      "[5.6931477, 5.5, 1.0]\n"
     ]
    }
   ],
   "source": [
    "adjoint_res = adjoint_module.run(x, y, grad)\n",
    "print(adjoint_res)"
   ]
  },
  {
   "cell_type": "markdown",
   "id": "a716337d-ddf3-463d-bc00-dae50bc728b2",
   "metadata": {},
   "source": [
    "check if answers are correct"
   ]
  },
  {
   "cell_type": "code",
   "execution_count": 8,
   "id": "22c704bc-a16b-4cf8-b8dd-66369110c067",
   "metadata": {},
   "outputs": [],
   "source": [
    "from math import log\n",
    "from typing import Tuple\n",
    "\n",
    "epsilon = 1e-6\n",
    "\n",
    "def forward(x: float, y: float) -> float:\n",
    "    return log(x) + x * y - y\n",
    "\n",
    "def reverse(x: float, y: float, grad: float) -> Tuple[float]:\n",
    "    forward_res = forward(x, y)\n",
    "    x_grad = 1 / x + y\n",
    "    y_grad = x - 1\n",
    "    return [forward_res, x_grad, y_grad]\n",
    "\n",
    "handwritten_res = reverse(x, y, grad)\n",
    "for i in range(len(handwritten_res)):\n",
    "    assert abs(handwritten_res[i] - adjoint_res[i]) < epsilon, \"Wrong answer\""
   ]
  }
 ],
 "metadata": {
  "kernelspec": {
   "display_name": "Python 3",
   "language": "python",
   "name": "python3"
  },
  "language_info": {
   "codemirror_mode": {
    "name": "ipython",
    "version": 3
   },
   "file_extension": ".py",
   "mimetype": "text/x-python",
   "name": "python",
   "nbconvert_exporter": "python",
   "pygments_lexer": "ipython3",
   "version": "3.9.15"
  }
 },
 "nbformat": 4,
 "nbformat_minor": 5
}
