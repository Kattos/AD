{
 "cells": [
  {
   "cell_type": "markdown",
   "id": "64059c83-816a-4fbd-94c4-1f667dc33eb6",
   "metadata": {},
   "source": [
    "# Time cost comparison (mnist classifier, tensorflow vs. iree)"
   ]
  },
  {
   "cell_type": "markdown",
   "id": "96b96212-5bea-4b61-9764-cef66db3e5ae",
   "metadata": {},
   "source": [
    "## 1. Set envargs"
   ]
  },
  {
   "cell_type": "code",
   "execution_count": 1,
   "id": "abdcc450-ca22-4297-8f34-a7c7e58e4cb3",
   "metadata": {},
   "outputs": [],
   "source": [
    "import os\n",
    "ad_root = os.environ[\"ad_root\"]"
   ]
  },
  {
   "cell_type": "markdown",
   "id": "1d041023-96ae-45a5-9149-f0ebfe21a338",
   "metadata": {},
   "source": [
    "## 2. Create model"
   ]
  },
  {
   "cell_type": "code",
   "execution_count": 2,
   "id": "588a6fba-4ce1-4a77-bbe2-c8c2339f2c45",
   "metadata": {},
   "outputs": [],
   "source": [
    "import tensorflow as tf\n",
    "\n",
    "NUM_CLASSES = 10\n",
    "NUM_ROWS, NUM_COLS = 28, 28\n",
    "BATCH_SIZE = 1\n",
    "\n",
    "class SampleModule(tf.Module):\n",
    "    def __init__(self):\n",
    "        super().__init__()\n",
    "        \n",
    "        self.model = tf.keras.Sequential([\n",
    "            tf.keras.layers.Flatten(input_shape=(NUM_ROWS, NUM_COLS)),\n",
    "            tf.keras.layers.Dense(16, activation=\"relu\"),\n",
    "            tf.keras.layers.Dense(16, activation=\"relu\"),\n",
    "            tf.keras.layers.Dense(10, activation=\"softmax\")\n",
    "        ])\n",
    "        \n",
    "        self.loss = tf.keras.losses.SparseCategoricalCrossentropy()\n",
    "        self.optimizer = tf.keras.optimizers.SGD(learning_rate=0.01)\n",
    "        \n",
    "    @tf.function(\n",
    "        input_signature=[\n",
    "            tf.TensorSpec([BATCH_SIZE, NUM_ROWS, NUM_COLS, 1])\n",
    "        ]\n",
    "    )\n",
    "    def forward(self, inputs):\n",
    "        return self.model(inputs, training=False)\n",
    "    \n",
    "    @tf.function(\n",
    "        input_signature=[\n",
    "            tf.TensorSpec([BATCH_SIZE, NUM_ROWS, NUM_COLS, 1]),\n",
    "            tf.TensorSpec([BATCH_SIZE], tf.uint8)\n",
    "        ]\n",
    "    )\n",
    "    def backward(self, inputs, labels):\n",
    "        with tf.GradientTape() as tape:\n",
    "            probs = self.forward(inputs)\n",
    "            loss = self.loss(labels, probs)\n",
    "        \n",
    "        variables = self.model.trainable_variables\n",
    "        gradients = tape.gradient(loss, variables)\n",
    "        return gradients\n",
    "    \n",
    "    @tf.function(\n",
    "        input_signature=[\n",
    "            tf.TensorSpec([BATCH_SIZE, NUM_ROWS, NUM_COLS, 1]),\n",
    "            tf.TensorSpec([BATCH_SIZE], tf.uint8)\n",
    "        ]\n",
    "    )\n",
    "    def learn(self, inputs, labels):\n",
    "        with tf.GradientTape() as tape:\n",
    "            probs = self.model(inputs, training=True)\n",
    "            loss = self.loss(labels, probs)\n",
    "            \n",
    "        variables = self.model.trainable_variables\n",
    "        gradients = tape.gradient(loss, variables)\n",
    "        self.optimizer.apply_gradients(zip(gradients, variables))\n",
    "        return loss\n",
    "    \n",
    "m = SampleModule()"
   ]
  },
  {
   "cell_type": "markdown",
   "id": "b8c20b9c-4e66-476e-b162-be99fe08f014",
   "metadata": {},
   "source": [
    "## 3. Save model\n",
    "\n",
    "```python\n",
    "tf.saved_model.save(m, model_path, signatures={\"forward\": m.forward, \"backward\": m.backward, \"learn\": m.learn})\n",
    "```\n",
    "\n",
    "## 4. Import model as MLIR using iree-import-tf\n",
    "\n",
    "```sh\n",
    "iree-import-tf model_path --tf-savedmodel-exported-names=\"forward\" --output-format=mlir-ir --tf-import-type=savedmodel_v2 --use-tosa -o classifier.mlir\n",
    "```\n",
    "\n",
    "## 5. Preprocess the imported MLIR (iree dialect is illegal in AD context)\n",
    "    * remove the `forward` function\n",
    "    * make the private function public\n",
    "    \n",
    "```sh\n",
    "sed \"s/func.func private/func.func/g\"\n",
    "```\n",
    "\n",
    "## 6. Apply autodiff on MLIR using autodiff-opt\n",
    "\n",
    "```sh\n",
    "autodiff-opt classifier.mlir --autodiff -o autodiff.mlir\n",
    "```\n",
    "\n",
    "## 7. Read autodiff.mlir and construct `TosaIR` instance"
   ]
  },
  {
   "cell_type": "code",
   "execution_count": 3,
   "id": "6cafe456-c46b-4555-8128-cca131817602",
   "metadata": {},
   "outputs": [],
   "source": [
    "from ad.intermediate import TosaIR\n",
    "from ad.utils import timer_us, alloc_to_init\n",
    "\n",
    "mlir_path = f\"{ad_root}/test/e2e/mnist/autodiff.mlir\"\n",
    "\n",
    "with open(mlir_path, \"r\") as f:\n",
    "    lines = f.read().split(\"\\n\")\n",
    "    for i in range(len(lines)):\n",
    "        lines[i] = alloc_to_init(lines[i])\n",
    "    file_input = \"\\n\".join(lines)\n",
    "    \n",
    "tosa_ir = TosaIR(file_input)\n",
    "tosa_exe = tosa_ir.to_executable()"
   ]
  },
  {
   "cell_type": "markdown",
   "id": "9edcada2-d97a-4e79-aa61-ecd85290b848",
   "metadata": {},
   "source": [
    "## 8. Choose a random image for testing"
   ]
  },
  {
   "cell_type": "code",
   "execution_count": 4,
   "id": "eccc257f-bf98-47a3-9788-23e8fa73cd5e",
   "metadata": {},
   "outputs": [],
   "source": [
    "from matplotlib import pyplot as plt\n",
    "import seaborn as sns\n",
    "\n",
    "plt.rcParams[\"font.family\"] = \"monospace\"\n",
    "plt.rcParams[\"figure.figsize\"] = [8, 4.5]\n",
    "plt.rcParams[\"figure.dpi\"] = 150\n",
    "\n",
    "def show_image(x_set, y_set, index):\n",
    "    plt.figure(figsize=(5, 5))\n",
    "    plt.imshow(x_set[index].reshape(NUM_ROWS, NUM_COLS), cmap=\"gray\")\n",
    "    plt.title(f\"Sample #{index}, label: {y_set[index]}\")\n",
    "    plt.axis(\"off\")\n",
    "    plt.tight_layout()  "
   ]
  },
  {
   "cell_type": "code",
   "execution_count": 5,
   "id": "5f09ef31-3cbe-442e-bf53-d14dbd16144b",
   "metadata": {},
   "outputs": [
    {
     "data": {
      "image/png": "[encoded data removed]",
      "text/plain": [
       "<Figure size 360x360 with 1 Axes>"
      ]
     },
     "metadata": {
      "needs_background": "light"
     },
     "output_type": "display_data"
    }
   ],
   "source": [
    "import numpy as np\n",
    "\n",
    "(x_train, y_train), (x_test, y_test) = tf.keras.datasets.mnist.load_data()\n",
    "\n",
    "x_train = np.reshape(x_train, (-1, NUM_ROWS, NUM_COLS, 1))\n",
    "x_test = np.reshape(x_test, (-1, NUM_ROWS, NUM_COLS, 1))\n",
    "\n",
    "x_train = x_train.astype(np.float32) / 255\n",
    "x_test = x_test.astype(np.float32) / 255\n",
    "\n",
    "index = np.random.randint(x_train.shape[0])\n",
    "show_image(x_train, y_train, index)"
   ]
  },
  {
   "cell_type": "markdown",
   "id": "4af342ef-2920-4185-b4e6-6e3563c91380",
   "metadata": {},
   "source": [
    "## 9. Use cases"
   ]
  },
  {
   "cell_type": "code",
   "execution_count": 6,
   "id": "86fca20d-20c3-4810-b39c-31b1840dc397",
   "metadata": {},
   "outputs": [],
   "source": [
    "from ad.utils import timer_ns\n",
    "\n",
    "@timer_ns\n",
    "def run_tf():\n",
    "    x_batch = [x_train[index]]\n",
    "    y_batch = [y_train[index]]\n",
    "\n",
    "    gradients = m.backward(x_batch, y_batch)\n",
    "    return gradients\n",
    "\n",
    "@timer_ns\n",
    "def run_iree():\n",
    "    image = np.reshape(np.array(x_train[index]), (BATCH_SIZE, NUM_ROWS, NUM_COLS, 1))\n",
    "    contribution = np.reshape(np.array([1 if i == y_train[index] else 0 for i in range(10)], dtype=np.float32), (BATCH_SIZE, 10))\n",
    "    \n",
    "    res = tosa_exe.exec(image, contribution)\n",
    "    return res"
   ]
  },
  {
   "cell_type": "code",
   "execution_count": 7,
   "id": "44b9e221-1d37-446f-b57f-04320b7ef2bf",
   "metadata": {},
   "outputs": [
    {
     "name": "stdout",
     "output_type": "stream",
     "text": [
      "run_tf : 325798209 ns\n"
     ]
    }
   ],
   "source": [
    "tf_res, tf_time = run_tf()"
   ]
  },
  {
   "cell_type": "code",
   "execution_count": 8,
   "id": "a6b23768-cf34-4a14-82cc-c26853d02ce5",
   "metadata": {},
   "outputs": [
    {
     "name": "stdout",
     "output_type": "stream",
     "text": [
      "run_iree : 8473097 ns\n"
     ]
    }
   ],
   "source": [
    "iree_res, iree_time = run_iree()"
   ]
  },
  {
   "cell_type": "markdown",
   "id": "d9f4eff3-17f4-4ef2-9c18-99934c45cd65",
   "metadata": {},
   "source": [
    "## 10. Visualization"
   ]
  },
  {
   "cell_type": "code",
   "execution_count": 9,
   "id": "d87f320d-181a-40a8-b65b-7ac579cfb44f",
   "metadata": {},
   "outputs": [
    {
     "data": {
      "text/plain": [
       "Text(0.5, 1.0, 'time cost (ms)')"
      ]
     },
     "execution_count": 9,
     "metadata": {},
     "output_type": "execute_result"
    },
    {
     "data": {
      "image/png": "[encoded data removed]",
      "text/plain": [
       "<Figure size 432x288 with 1 Axes>"
      ]
     },
     "metadata": {
      "needs_background": "light"
     },
     "output_type": "display_data"
    }
   ],
   "source": [
    "import pandas as pd\n",
    "df = pd.DataFrame({ \"tensorflow\" : [tf_time / 1e6], \"iree\" : [iree_time / 1e6] })\n",
    "sns.barplot(df).set_title(\"time cost (ms)\")"
   ]
  }
 ],
 "metadata": {
  "kernelspec": {
   "display_name": "Python 3",
   "language": "python",
   "name": "python3"
  },
  "language_info": {
   "codemirror_mode": {
    "name": "ipython",
    "version": 3
   },
   "file_extension": ".py",
   "mimetype": "text/x-python",
   "name": "python",
   "nbconvert_exporter": "python",
   "pygments_lexer": "ipython3",
   "version": "3.9.15"
  }
 },
 "nbformat": 4,
 "nbformat_minor": 5
}
